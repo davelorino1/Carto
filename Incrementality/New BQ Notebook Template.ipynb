{
 "cells": [
  {
   "cell_type": "code",
   "execution_count": 2,
   "metadata": {},
   "outputs": [
    {
     "name": "stderr",
     "output_type": "stream",
     "text": [
      "/opt/homebrew/lib/python3.11/site-packages/google/auth/_default.py:78: UserWarning: Your application has authenticated using end user credentials from Google Cloud SDK without a quota project. You might receive a \"quota exceeded\" or \"API not enabled\" error. See the following page for troubleshooting: https://cloud.google.com/docs/authentication/adc-troubleshooting/user-creds. \n",
      "  warnings.warn(_CLOUD_SDK_CREDENTIALS_WARNING)\n"
     ]
    }
   ],
   "source": [
    "from google.cloud import bigquery\n",
    "import pandas as pd \n",
    "import chime   \n",
    "import seaborn as sns\n",
    "#import holidays\n",
    "from prophet import Prophet\n",
    "client = bigquery.Client(\"gcp-wow-rwds-ai-checkout-dev\")"
   ]
  },
  {
   "cell_type": "code",
   "execution_count": 2,
   "metadata": {},
   "outputs": [],
   "source": [
    "pd.set_option('display.max_rows', 500)\n",
    "pd.set_option('display.max_columns', 500)\n",
    "pd.set_option('display.max_colwidth', None)"
   ]
  },
  {
   "cell_type": "code",
   "execution_count": 4,
   "metadata": {},
   "outputs": [],
   "source": [
    "data_scientist = \"dlorino\""
   ]
  },
  {
   "cell_type": "code",
   "execution_count": 6,
   "metadata": {},
   "outputs": [
    {
     "ename": "NameError",
     "evalue": "name 'campaign_id' is not defined",
     "output_type": "error",
     "traceback": [
      "\u001b[0;31m---------------------------------------------------------------------------\u001b[0m",
      "\u001b[0;31mNameError\u001b[0m                                 Traceback (most recent call last)",
      "Cell \u001b[0;32mIn[6], line 5\u001b[0m\n\u001b[1;32m      1\u001b[0m check \u001b[38;5;241m=\u001b[39m client\u001b[38;5;241m.\u001b[39mquery(\n\u001b[1;32m      2\u001b[0m \u001b[38;5;124mf\u001b[39m\u001b[38;5;124m\"\"\"\u001b[39m\n\u001b[1;32m      3\u001b[0m \u001b[38;5;124mDECLARE media_start_date_global_var DATE; \u001b[39m\n\u001b[1;32m      4\u001b[0m \u001b[38;5;124mDECLARE media_end_date_global_var DATE; \u001b[39m\n\u001b[0;32m----> 5\u001b[0m \u001b[38;5;124mSET media_start_date_global_var = (SELECT DISTINCT media_start_date FROM cart-dai-sandbox-nonprod-c3e7.\u001b[39m\u001b[38;5;132;01m{\u001b[39;00mdata_scientist\u001b[38;5;132;01m}\u001b[39;00m\u001b[38;5;124m.regularization_process_campaign_asset_info WHERE booking_and_asset_number = \u001b[39m\u001b[38;5;124m'\u001b[39m\u001b[38;5;132;01m{\u001b[39;00m\u001b[43mcampaign_id\u001b[49m\u001b[38;5;132;01m}\u001b[39;00m\u001b[38;5;124m'\u001b[39m\u001b[38;5;124m);\u001b[39m\n\u001b[1;32m      6\u001b[0m \u001b[38;5;124mSET media_end_date_global_var = (SELECT DISTINCT media_end_date FROM cart-dai-sandbox-nonprod-c3e7.\u001b[39m\u001b[38;5;132;01m{\u001b[39;00mdata_scientist\u001b[38;5;132;01m}\u001b[39;00m\u001b[38;5;124m.regularization_process_campaign_asset_info WHERE booking_and_asset_number = \u001b[39m\u001b[38;5;124m'\u001b[39m\u001b[38;5;132;01m{\u001b[39;00mcampaign_id\u001b[38;5;132;01m}\u001b[39;00m\u001b[38;5;124m'\u001b[39m\u001b[38;5;124m);\u001b[39m\n\u001b[1;32m      7\u001b[0m \u001b[38;5;124mSELECT \u001b[39m\n\u001b[1;32m      8\u001b[0m \u001b[38;5;124m    BusinessDate, \u001b[39m\n\u001b[1;32m      9\u001b[0m \u001b[38;5;124m    SUM(sales_amount)\u001b[39m\n\u001b[1;32m     10\u001b[0m \u001b[38;5;124m--FROM cart-dai-sandbox-nonprod-c3e7.\u001b[39m\u001b[38;5;132;01m{\u001b[39;00mdata_scientist\u001b[38;5;132;01m}\u001b[39;00m\u001b[38;5;124m.regularization_process_campaign_period_transactions\u001b[39m\n\u001b[1;32m     11\u001b[0m \u001b[38;5;124mFROM `gcp-wow-wiq-ca-prod.wiqIN_DataAssets.CustomerBaseTransaction_v` transactions\u001b[39m\n\u001b[1;32m     12\u001b[0m \u001b[38;5;124mINNER JOIN cart-dai-sandbox-nonprod-c3e7.\u001b[39m\u001b[38;5;132;01m{\u001b[39;00mdata_scientist\u001b[38;5;132;01m}\u001b[39;00m\u001b[38;5;124m.unique_skus_2 skus \u001b[39m\n\u001b[1;32m     13\u001b[0m \u001b[38;5;124m    ON TRIM(skus.sku) = ass_campaign_period.Article \u001b[39m\n\u001b[1;32m     14\u001b[0m \u001b[38;5;124mWHERE BusinessDate >= DATE_ADD(media_start_date_global_var, INTERVAL -2 YEAR)\u001b[39m\n\u001b[1;32m     15\u001b[0m \u001b[38;5;124mAND BusinessDate <= media_end_date_global_var\u001b[39m\n\u001b[1;32m     16\u001b[0m \u001b[38;5;124mGROUP BY 1\u001b[39m\n\u001b[1;32m     17\u001b[0m \u001b[38;5;124mORDER BY 1\u001b[39m\n\u001b[1;32m     18\u001b[0m \u001b[38;5;124m\"\"\"\u001b[39m\n\u001b[1;32m     19\u001b[0m )\u001b[38;5;241m.\u001b[39mresult()\n\u001b[1;32m     20\u001b[0m check_df \u001b[38;5;241m=\u001b[39m check\u001b[38;5;241m.\u001b[39mto_dataframe()\n\u001b[1;32m     21\u001b[0m chime\u001b[38;5;241m.\u001b[39msuccess()\n",
      "\u001b[0;31mNameError\u001b[0m: name 'campaign_id' is not defined"
     ]
    }
   ],
   "source": [
    "campaign_id = \"WOW20000860_1\"\n",
    "check = client.query(\n",
    "f\"\"\"\n",
    "DECLARE media_start_date_global_var DATE; \n",
    "DECLARE media_end_date_global_var DATE; \n",
    "SET media_start_date_global_var = (SELECT DISTINCT media_start_date FROM cart-dai-sandbox-nonprod-c3e7.{data_scientist}.regularization_process_campaign_asset_info WHERE booking_and_asset_number = '{campaign_id}');\n",
    "SET media_end_date_global_var = (SELECT DISTINCT media_end_date FROM cart-dai-sandbox-nonprod-c3e7.{data_scientist}.regularization_process_campaign_asset_info WHERE booking_and_asset_number = '{campaign_id}');\n",
    "SELECT \n",
    "    BusinessDate, \n",
    "    SUM(sales_amount)\n",
    "--FROM cart-dai-sandbox-nonprod-c3e7.{data_scientist}.regularization_process_campaign_period_transactions\n",
    "FROM `gcp-wow-wiq-ca-prod.wiqIN_DataAssets.CustomerBaseTransaction_v` transactions\n",
    "INNER JOIN cart-dai-sandbox-nonprod-c3e7.{data_scientist}.unique_skus_2 skus \n",
    "    ON TRIM(skus.sku) = ass_campaign_period.Article \n",
    "WHERE BusinessDate >= DATE_ADD(media_start_date_global_var, INTERVAL -2 YEAR)\n",
    "AND BusinessDate <= media_end_date_global_var\n",
    "GROUP BY 1\n",
    "ORDER BY 1\n",
    "\"\"\"\n",
    ").result()\n",
    "check_df = check.to_dataframe()\n",
    "chime.success()\n",
    "check_df "
   ]
  },
  {
   "cell_type": "code",
   "execution_count": 3,
   "metadata": {},
   "outputs": [],
   "source": [
    "#print(holidays.country_holidays('AU'))\n",
    "m = Prophet()\n",
    "m.add_country_holidays('AU')\n",
    "m.fit()\n",
    "m.train_holiday_names"
   ]
  },
  {
   "cell_type": "code",
   "execution_count": null,
   "metadata": {},
   "outputs": [],
   "source": [
    "check = client.query(\n",
    "\"\"\"\n",
    "\"\"\"\n",
    ").result()\n",
    "check_df = check.to_dataframe()\n",
    "chime.success()\n",
    "check_df "
   ]
  },
  {
   "cell_type": "code",
   "execution_count": null,
   "metadata": {},
   "outputs": [],
   "source": [
    "check = client.query(\n",
    "\"\"\"\n",
    "\"\"\"\n",
    ").result()\n",
    "check_df = check.to_dataframe()\n",
    "chime.success()\n",
    "check_df "
   ]
  },
  {
   "cell_type": "code",
   "execution_count": null,
   "metadata": {},
   "outputs": [],
   "source": [
    "check = client.query(\n",
    "\"\"\"\n",
    "\"\"\"\n",
    ").result()\n",
    "check_df = check.to_dataframe()\n",
    "chime.success()\n",
    "check_df "
   ]
  },
  {
   "cell_type": "code",
   "execution_count": null,
   "metadata": {},
   "outputs": [],
   "source": [
    "\n"
   ]
  }
 ],
 "metadata": {
  "kernelspec": {
   "display_name": "Python 3",
   "language": "python",
   "name": "python3"
  },
  "language_info": {
   "codemirror_mode": {
    "name": "ipython",
    "version": 3
   },
   "file_extension": ".py",
   "mimetype": "text/x-python",
   "name": "python",
   "nbconvert_exporter": "python",
   "pygments_lexer": "ipython3",
   "version": "3.11.4"
  }
 },
 "nbformat": 4,
 "nbformat_minor": 2
}
